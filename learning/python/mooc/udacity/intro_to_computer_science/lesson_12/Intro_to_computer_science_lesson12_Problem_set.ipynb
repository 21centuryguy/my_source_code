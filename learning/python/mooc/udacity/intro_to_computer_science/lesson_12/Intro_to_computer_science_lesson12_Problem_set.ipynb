{
 "cells": [
  {
   "cell_type": "code",
   "execution_count": 2,
   "metadata": {},
   "outputs": [
    {
     "name": "stdout",
     "output_type": "stream",
     "text": [
      "[1, 1, 1]\n",
      "[1, 2, 1]\n",
      "[1, 2, 3]\n"
     ]
    }
   ],
   "source": [
    "m = [0, 1, 1]\n",
    "\n",
    "m[0] = m[0] + m[1]\n",
    "print (m)\n",
    "\n",
    "m[1] = m[0] + m[2]\n",
    "print (m)\n",
    "\n",
    "m[2] = m[0] + m[1]\n",
    "print (m)"
   ]
  },
  {
   "cell_type": "code",
   "execution_count": null,
   "metadata": {},
   "outputs": [],
   "source": []
  },
  {
   "cell_type": "code",
   "execution_count": 17,
   "metadata": {},
   "outputs": [
    {
     "name": "stdout",
     "output_type": "stream",
     "text": [
      "p1 = [1, 2, 3]\n",
      "p2 =  [2, 2, 3]\n"
     ]
    }
   ],
   "source": [
    "p1 = [1, 2, 3]\n",
    "print(\"p1 =\", p1)\n",
    "def proc1(p1):\n",
    "    p1[0] = p1[1]\n",
    "    return p1\n",
    "\n",
    "print(\"p2 = \", proc1(p1))"
   ]
  },
  {
   "cell_type": "code",
   "execution_count": 18,
   "metadata": {},
   "outputs": [
    {
     "name": "stdout",
     "output_type": "stream",
     "text": [
      "p1 = [1, 2, 3]\n",
      "p1 =  [1, 2, 3]\n",
      "p2 =  [1, 2, 3, 1]\n",
      "p1, p2 = ([1, 2, 3], [1, 2, 3, 1])\n"
     ]
    }
   ],
   "source": [
    "p1 = [1, 2, 3]\n",
    "print(\"p1 =\", p1)\n",
    "def proc2(p1):\n",
    "    p2 = p1 + [1];print(\"p1 = \", p1);print(\"p2 = \", p2)\n",
    "    return p1, p2\n",
    "\n",
    "print(\"p1, p2 =\", proc2(p1))"
   ]
  },
  {
   "cell_type": "code",
   "execution_count": 19,
   "metadata": {},
   "outputs": [
    {
     "name": "stdout",
     "output_type": "stream",
     "text": [
      "p1 =  [1, 2, 3]\n",
      "q1 =  [1, 2, 3]\n",
      "p2 =  [1, 2, 3, 3]\n",
      "q2 =  [1, 2, 3]\n",
      "p2, q2 =  ([1, 2, 3], [1, 2, 3])\n"
     ]
    }
   ],
   "source": [
    "p1 = [1,2,3]\n",
    "print(\"p1 = \",p1)\n",
    "def poc3(p1):\n",
    "    q1 = p1;print(\"q1 = \",q1)\n",
    "    p1.append(3);print(\"p2 = \",p1)\n",
    "    q1.pop();print(\"q2 = \",q1)\n",
    "    return p1, q1\n",
    "\n",
    "print(\"p2, q2 = \", poc3(p1))"
   ]
  },
  {
   "cell_type": "code",
   "execution_count": 20,
   "metadata": {},
   "outputs": [
    {
     "name": "stdout",
     "output_type": "stream",
     "text": [
      "p1 =  [1, 2, 3]\n",
      "q1 =  []\n",
      "q2 =  [3]\n",
      "q2 =  [3, 2]\n",
      "q2 =  [3, 2, 1]\n",
      "p2 =  [1]\n",
      "p2 =  [1, 2]\n",
      "p2 =  [1, 2, 3]\n",
      "p2, q2 =  ([1, 2, 3], [])\n"
     ]
    }
   ],
   "source": [
    "p1 = [1,2,3]\n",
    "print(\"p1 = \",p1)\n",
    "def proc4(p1):\n",
    "    q1 = [];print(\"q1 = \",q1)\n",
    "    while p1:\n",
    "        q1.append(p1.pop());print(\"q2 = \",q1)\n",
    "    while q1:\n",
    "        p1.append(q1.pop());print(\"p2 = \",p1)\n",
    "    return p1, q1\n",
    "\n",
    "print(\"p2, q2 = \", proc4(p1))"
   ]
  },
  {
   "cell_type": "code",
   "execution_count": null,
   "metadata": {},
   "outputs": [],
   "source": []
  },
  {
   "cell_type": "code",
   "execution_count": 21,
   "metadata": {},
   "outputs": [
    {
     "name": "stdout",
     "output_type": "stream",
     "text": [
      "('1*1*2*3*4', 24)\n"
     ]
    }
   ],
   "source": [
    "def product_list(list_of_numbers):\n",
    "    xxx = \"1\"\n",
    "    x = 0\n",
    "    while x < len(list_of_numbers):\n",
    "        xxx = xxx+\"*\"+str(list_of_numbers[x])\n",
    "        x = x+1\n",
    "    return xxx, eval(xxx)\n",
    "print(product_list([1,2,3,4]))\n"
   ]
  },
  {
   "cell_type": "code",
   "execution_count": null,
   "metadata": {},
   "outputs": [],
   "source": []
  },
  {
   "cell_type": "code",
   "execution_count": 13,
   "metadata": {},
   "outputs": [
    {
     "name": "stdout",
     "output_type": "stream",
     "text": [
      "24\n"
     ]
    }
   ],
   "source": [
    "def product_list(list_of_numbers):\n",
    "    xxx = 1\n",
    "    for x in list_of_numbers:\n",
    "        xxx = xxx*x\n",
    "    return xxx\n",
    "print(product_list([1,2,3,4]))"
   ]
  },
  {
   "cell_type": "code",
   "execution_count": null,
   "metadata": {},
   "outputs": [],
   "source": []
  },
  {
   "cell_type": "code",
   "execution_count": 36,
   "metadata": {},
   "outputs": [
    {
     "name": "stdout",
     "output_type": "stream",
     "text": [
      "([111, 235, 342, 456, 874], 874)\n",
      "([1], 1)\n",
      "0\n"
     ]
    }
   ],
   "source": [
    "def greatest(list_of_numbers):\n",
    "    if len(list_of_numbers) > 0:\n",
    "        list_of_numbers.sort()\n",
    "        return list_of_numbers, list_of_numbers[-1]\n",
    "    else:\n",
    "        return 0\n",
    "    \n",
    "print(greatest([342,874,456,235,111]))\n",
    "print(greatest([1]))\n",
    "print(greatest([]))"
   ]
  },
  {
   "cell_type": "code",
   "execution_count": null,
   "metadata": {},
   "outputs": [],
   "source": []
  },
  {
   "cell_type": "code",
   "execution_count": 38,
   "metadata": {},
   "outputs": [
    {
     "name": "stdout",
     "output_type": "stream",
     "text": [
      "874\n",
      "1\n",
      "0\n"
     ]
    }
   ],
   "source": [
    "def greatest(list_of_numbers):\n",
    "    biggest = 0\n",
    "    for x in list_of_numbers:\n",
    "        if x > biggest:\n",
    "            biggest = x\n",
    "    return biggest\n",
    "\n",
    "print(greatest([342,874,456,235,111]))\n",
    "print(greatest([1]))\n",
    "print(greatest([]))"
   ]
  },
  {
   "cell_type": "code",
   "execution_count": 40,
   "metadata": {},
   "outputs": [
    {
     "name": "stdout",
     "output_type": "stream",
     "text": [
      "874\n"
     ]
    }
   ],
   "source": [
    "print (max([342,874,456,235,111]))"
   ]
  },
  {
   "cell_type": "code",
   "execution_count": 42,
   "metadata": {},
   "outputs": [
    {
     "name": "stdout",
     "output_type": "stream",
     "text": [
      "111\n"
     ]
    }
   ],
   "source": [
    "print (min([342,874,456,235,111]))"
   ]
  },
  {
   "cell_type": "code",
   "execution_count": null,
   "metadata": {},
   "outputs": [],
   "source": []
  },
  {
   "cell_type": "code",
   "execution_count": null,
   "metadata": {},
   "outputs": [],
   "source": []
  },
  {
   "cell_type": "code",
   "execution_count": null,
   "metadata": {},
   "outputs": [],
   "source": []
  },
  {
   "cell_type": "code",
   "execution_count": null,
   "metadata": {},
   "outputs": [],
   "source": []
  },
  {
   "cell_type": "code",
   "execution_count": null,
   "metadata": {},
   "outputs": [],
   "source": []
  },
  {
   "cell_type": "code",
   "execution_count": null,
   "metadata": {},
   "outputs": [],
   "source": []
  },
  {
   "cell_type": "code",
   "execution_count": null,
   "metadata": {},
   "outputs": [],
   "source": []
  },
  {
   "cell_type": "code",
   "execution_count": null,
   "metadata": {},
   "outputs": [],
   "source": []
  },
  {
   "cell_type": "code",
   "execution_count": null,
   "metadata": {},
   "outputs": [],
   "source": []
  },
  {
   "cell_type": "code",
   "execution_count": null,
   "metadata": {},
   "outputs": [],
   "source": []
  },
  {
   "cell_type": "code",
   "execution_count": null,
   "metadata": {},
   "outputs": [],
   "source": []
  },
  {
   "cell_type": "code",
   "execution_count": null,
   "metadata": {},
   "outputs": [],
   "source": []
  },
  {
   "cell_type": "code",
   "execution_count": null,
   "metadata": {},
   "outputs": [],
   "source": []
  },
  {
   "cell_type": "code",
   "execution_count": null,
   "metadata": {},
   "outputs": [],
   "source": []
  }
 ],
 "metadata": {
  "kernelspec": {
   "display_name": "Python 3",
   "language": "python",
   "name": "python3"
  },
  "language_info": {
   "codemirror_mode": {
    "name": "ipython",
    "version": 3
   },
   "file_extension": ".py",
   "mimetype": "text/x-python",
   "name": "python",
   "nbconvert_exporter": "python",
   "pygments_lexer": "ipython3",
   "version": "3.7.0"
  }
 },
 "nbformat": 4,
 "nbformat_minor": 2
}
