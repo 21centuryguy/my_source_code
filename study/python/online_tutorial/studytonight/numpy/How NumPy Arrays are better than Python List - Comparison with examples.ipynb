{
 "cells": [
  {
   "cell_type": "code",
   "execution_count": 5,
   "metadata": {},
   "outputs": [
    {
     "name": "stdout",
     "output_type": "stream",
     "text": [
      "Size of Numpy array:  800\n",
      "Size of list  2800\n"
     ]
    }
   ],
   "source": [
    "import numpy as np\n",
    "import time\n",
    "import sys\n",
    "\n",
    "# Creating a Numpy array with 100 elements\n",
    "array = np.arange(100)\n",
    "# array.itemsize :Size of one element\n",
    "# array.size : length of array\n",
    "print(\"Size of Numpy array: \", array.itemsize * array.size)\n",
    "\n",
    "# Creating a list with 100 elements\n",
    "# Now I'll print the size of list\n",
    "list = range(0, 100)\n",
    "# Multiplying size of 1 element with length of the list\n",
    "print(\"Size of list \", sys.getsizeof(1) * len(list))"
   ]
  },
  {
   "cell_type": "code",
   "execution_count": 12,
   "metadata": {},
   "outputs": [
    {
     "name": "stdout",
     "output_type": "stream",
     "text": [
      "Time for Python List in msec :  18.074989318847656\n",
      "Time for Numpy array in mesc :  5.269050598144531\n",
      "\n",
      "This means Numpy array is faster than Python List\n"
     ]
    }
   ],
   "source": [
    "import numpy as np\n",
    "import time\n",
    "import sys\n",
    "\n",
    "# let's declare teh size\n",
    "Size = 100000\n",
    "\n",
    "# Creating two lists\n",
    "list1 = range(Size)\n",
    "list2 = range(Size)\n",
    "\n",
    "# Creating two NumPY arrays\n",
    "arr1 = np.arange(Size)\n",
    "arr2 = np.arange(Size)\n",
    "\n",
    "# Calculating time for Python list\n",
    "start = time.time()\n",
    "result = [(x,y) for x,y in zip(list1, list2)]\n",
    "\n",
    "print(\"Time for Python List in msec : \", (time.time() - start) * 1000)\n",
    "\n",
    "# Calculating time for Numpy array\n",
    "start = time.time()\n",
    "result = arr1+arr2\n",
    "print(\"Time for Numpy array in mesc : \", (time.time() - start) * 1000)\n",
    "\n",
    "print(\"\\nThis means Numpy array is faster than Python List\")\n"
   ]
  },
  {
   "cell_type": "code",
   "execution_count": 13,
   "metadata": {},
   "outputs": [
    {
     "name": "stdout",
     "output_type": "stream",
     "text": [
      "ADD a1 and a2 elements : [5 7 9]\n",
      "Time for NumPy array in msec:  8.05211067199707\n",
      "SUB a1 and a2 elements : [-3 -3 -3]\n",
      "Time for NumPy array in msec:  0.24819374084472656\n",
      "MUL a1 and a2 elements : [ 4 10 18]\n",
      "Time for NumPy array in msec:  0.23436546325683594\n"
     ]
    }
   ],
   "source": [
    "import numpy as np\n",
    "import time\n",
    "\n",
    "a1 = np.array([1, 2, 3])\n",
    "a2 = np.array([4, 5, 6])\n",
    "\n",
    "# To add two array you can simply do it by\n",
    "start = time.time()\n",
    "print(\"ADD a1 and a2 elements :\", a1 + a2)\n",
    "print(\"Time for NumPy array in msec: \", (time.time()- start) * 1000)\n",
    "\n",
    "# To sub two array you can simply do it by\n",
    "start = time.time()\n",
    "print(\"SUB a1 and a2 elements :\", a1 - a2)\n",
    "print(\"Time for NumPy array in msec: \", (time.time()- start) * 1000)\n",
    "\n",
    "# To mul two array you can simply do it by\n",
    "start = time.time()\n",
    "print(\"MUL a1 and a2 elements :\", a1 * a2)\n",
    "print(\"Time for NumPy array in msec: \", (time.time()- start) * 1000)\n"
   ]
  },
  {
   "cell_type": "code",
   "execution_count": null,
   "metadata": {},
   "outputs": [],
   "source": []
  }
 ],
 "metadata": {
  "kernelspec": {
   "display_name": "Python 3",
   "language": "python",
   "name": "python3"
  },
  "language_info": {
   "codemirror_mode": {
    "name": "ipython",
    "version": 3
   },
   "file_extension": ".py",
   "mimetype": "text/x-python",
   "name": "python",
   "nbconvert_exporter": "python",
   "pygments_lexer": "ipython3",
   "version": "3.6.5"
  }
 },
 "nbformat": 4,
 "nbformat_minor": 2
}
