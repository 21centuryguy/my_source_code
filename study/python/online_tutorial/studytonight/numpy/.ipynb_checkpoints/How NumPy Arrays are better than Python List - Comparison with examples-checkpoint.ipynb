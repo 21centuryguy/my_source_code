{
 "cells": [
  {
   "cell_type": "code",
   "execution_count": 5,
   "metadata": {},
   "outputs": [
    {
     "name": "stdout",
     "output_type": "stream",
     "text": [
      "Size of Numpy array:  800\n",
      "Size of list  2800\n"
     ]
    }
   ],
   "source": [
    "import numpy as np\n",
    "import time\n",
    "import sys\n",
    "\n",
    "# Creating a Numpy array with 100 elements\n",
    "array = np.arange(100)\n",
    "# array.itemsize :Size of one element\n",
    "# array.size : length of array\n",
    "print(\"Size of Numpy array: \", array.itemsize * array.size)\n",
    "\n",
    "# Creating a list with 100 elements\n",
    "# Now I'll print the size of list\n",
    "list = range(0, 100)\n",
    "# Multiplying size of 1 element with length of the list\n",
    "print(\"Size of list \", sys.getsizeof(1) * len(list))"
   ]
  },
  {
   "cell_type": "code",
   "execution_count": 8,
   "metadata": {},
   "outputs": [
    {
     "name": "stdout",
     "output_type": "stream",
     "text": [
      "Time for Python List in msec :  24.923086166381836\n"
     ]
    },
    {
     "data": {
      "text/plain": [
       "'start = time.time()\\nresult = arr1 arr2\\nprint(\"Time for Numpy array in mesc : \", (time.time() - start) * 1000)\\n\\nprint(\"\\nThis means Numpy array is faster than Python List\")'"
      ]
     },
     "execution_count": 8,
     "metadata": {},
     "output_type": "execute_result"
    }
   ],
   "source": [
    "import numpy as np\n",
    "import time\n",
    "import sys\n",
    "\n",
    "# let's declare teh size\n",
    "Size = 100000\n",
    "\n",
    "# Creating two lists\n",
    "list1 = range(Size)\n",
    "list2 = range(Size)\n",
    "\n",
    "# Creating two NumPY arrays\n",
    "arr1 = np.arange(Size)\n",
    "arr2 = np.arange(Size)\n",
    "\n",
    "# Calculating time for Python list\n",
    "start = time.time()\n",
    "result = [(x,y) for x,y in zip(list1, list2)]\n",
    "\n",
    "print(\"Time for Python List in msec : \", (time.time() - start) * 1000)\n",
    "\n",
    "# Calculating time for Numpy array\n",
    "# start = time.time()\n",
    "# result = arr1 arr2\n",
    "# print(\"Time for Numpy array in mesc : \", (time.time() - start) * 1000)\n",
    "\n",
    "print(\"\\nThis means Numpy array is faster than Python List\")\n"
   ]
  },
  {
   "cell_type": "code",
   "execution_count": null,
   "metadata": {},
   "outputs": [],
   "source": []
  }
 ],
 "metadata": {
  "kernelspec": {
   "display_name": "Python 3",
   "language": "python",
   "name": "python3"
  },
  "language_info": {
   "codemirror_mode": {
    "name": "ipython",
    "version": 3
   },
   "file_extension": ".py",
   "mimetype": "text/x-python",
   "name": "python",
   "nbconvert_exporter": "python",
   "pygments_lexer": "ipython3",
   "version": "3.6.5"
  }
 },
 "nbformat": 4,
 "nbformat_minor": 2
}
